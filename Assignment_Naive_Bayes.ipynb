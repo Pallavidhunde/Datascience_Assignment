{
  "nbformat": 4,
  "nbformat_minor": 0,
  "metadata": {
    "colab": {
      "name": "Assignment Naive Bayes",
      "provenance": []
    },
    "kernelspec": {
      "name": "python3",
      "display_name": "Python 3"
    },
    "language_info": {
      "name": "python"
    }
  },
  "cells": [
    {
      "cell_type": "code",
      "metadata": {
        "id": "vswMGtD5Y0fY"
      },
      "source": [
        "import pandas as pd\n",
        "import numpy as np\n",
        "import seaborn as sns\n",
        "import matplotlib.pyplot as plt\n",
        "%matplotlib inline\n",
        "from sklearn.preprocessing import StandardScaler\n",
        "from imblearn.over_sampling import RandomOverSampler\n",
        "from sklearn.metrics import classification_report,confusion_matrix\n",
        "from sklearn.model_selection import train_test_split\n",
        "from sklearn.naive_bayes import GaussianNB"
      ],
      "execution_count": 41,
      "outputs": []
    },
    {
      "cell_type": "code",
      "metadata": {
        "id": "hCgUahXFZXBU"
      },
      "source": [
        "df = pd.read_csv('SalaryData_Train.csv')"
      ],
      "execution_count": 3,
      "outputs": []
    },
    {
      "cell_type": "code",
      "metadata": {
        "id": "Mjg6rVs2ZWvC"
      },
      "source": [
        "df_test = pd.read_csv('SalaryData_Test.csv')"
      ],
      "execution_count": 10,
      "outputs": []
    },
    {
      "cell_type": "code",
      "metadata": {
        "colab": {
          "base_uri": "https://localhost:8080/",
          "height": 309
        },
        "id": "4hEQaCqtZWo6",
        "outputId": "a146866b-fb0a-4f72-bf5b-a5139f48822d"
      },
      "source": [
        "df.head()"
      ],
      "execution_count": 4,
      "outputs": [
        {
          "output_type": "execute_result",
          "data": {
            "text/html": [
              "<div>\n",
              "<style scoped>\n",
              "    .dataframe tbody tr th:only-of-type {\n",
              "        vertical-align: middle;\n",
              "    }\n",
              "\n",
              "    .dataframe tbody tr th {\n",
              "        vertical-align: top;\n",
              "    }\n",
              "\n",
              "    .dataframe thead th {\n",
              "        text-align: right;\n",
              "    }\n",
              "</style>\n",
              "<table border=\"1\" class=\"dataframe\">\n",
              "  <thead>\n",
              "    <tr style=\"text-align: right;\">\n",
              "      <th></th>\n",
              "      <th>age</th>\n",
              "      <th>workclass</th>\n",
              "      <th>education</th>\n",
              "      <th>educationno</th>\n",
              "      <th>maritalstatus</th>\n",
              "      <th>occupation</th>\n",
              "      <th>relationship</th>\n",
              "      <th>race</th>\n",
              "      <th>sex</th>\n",
              "      <th>capitalgain</th>\n",
              "      <th>capitalloss</th>\n",
              "      <th>hoursperweek</th>\n",
              "      <th>native</th>\n",
              "      <th>Salary</th>\n",
              "    </tr>\n",
              "  </thead>\n",
              "  <tbody>\n",
              "    <tr>\n",
              "      <th>0</th>\n",
              "      <td>39</td>\n",
              "      <td>State-gov</td>\n",
              "      <td>Bachelors</td>\n",
              "      <td>13</td>\n",
              "      <td>Never-married</td>\n",
              "      <td>Adm-clerical</td>\n",
              "      <td>Not-in-family</td>\n",
              "      <td>White</td>\n",
              "      <td>Male</td>\n",
              "      <td>2174</td>\n",
              "      <td>0</td>\n",
              "      <td>40</td>\n",
              "      <td>United-States</td>\n",
              "      <td>&lt;=50K</td>\n",
              "    </tr>\n",
              "    <tr>\n",
              "      <th>1</th>\n",
              "      <td>50</td>\n",
              "      <td>Self-emp-not-inc</td>\n",
              "      <td>Bachelors</td>\n",
              "      <td>13</td>\n",
              "      <td>Married-civ-spouse</td>\n",
              "      <td>Exec-managerial</td>\n",
              "      <td>Husband</td>\n",
              "      <td>White</td>\n",
              "      <td>Male</td>\n",
              "      <td>0</td>\n",
              "      <td>0</td>\n",
              "      <td>13</td>\n",
              "      <td>United-States</td>\n",
              "      <td>&lt;=50K</td>\n",
              "    </tr>\n",
              "    <tr>\n",
              "      <th>2</th>\n",
              "      <td>38</td>\n",
              "      <td>Private</td>\n",
              "      <td>HS-grad</td>\n",
              "      <td>9</td>\n",
              "      <td>Divorced</td>\n",
              "      <td>Handlers-cleaners</td>\n",
              "      <td>Not-in-family</td>\n",
              "      <td>White</td>\n",
              "      <td>Male</td>\n",
              "      <td>0</td>\n",
              "      <td>0</td>\n",
              "      <td>40</td>\n",
              "      <td>United-States</td>\n",
              "      <td>&lt;=50K</td>\n",
              "    </tr>\n",
              "    <tr>\n",
              "      <th>3</th>\n",
              "      <td>53</td>\n",
              "      <td>Private</td>\n",
              "      <td>11th</td>\n",
              "      <td>7</td>\n",
              "      <td>Married-civ-spouse</td>\n",
              "      <td>Handlers-cleaners</td>\n",
              "      <td>Husband</td>\n",
              "      <td>Black</td>\n",
              "      <td>Male</td>\n",
              "      <td>0</td>\n",
              "      <td>0</td>\n",
              "      <td>40</td>\n",
              "      <td>United-States</td>\n",
              "      <td>&lt;=50K</td>\n",
              "    </tr>\n",
              "    <tr>\n",
              "      <th>4</th>\n",
              "      <td>28</td>\n",
              "      <td>Private</td>\n",
              "      <td>Bachelors</td>\n",
              "      <td>13</td>\n",
              "      <td>Married-civ-spouse</td>\n",
              "      <td>Prof-specialty</td>\n",
              "      <td>Wife</td>\n",
              "      <td>Black</td>\n",
              "      <td>Female</td>\n",
              "      <td>0</td>\n",
              "      <td>0</td>\n",
              "      <td>40</td>\n",
              "      <td>Cuba</td>\n",
              "      <td>&lt;=50K</td>\n",
              "    </tr>\n",
              "  </tbody>\n",
              "</table>\n",
              "</div>"
            ],
            "text/plain": [
              "   age          workclass   education  ...  hoursperweek          native  Salary\n",
              "0   39          State-gov   Bachelors  ...            40   United-States   <=50K\n",
              "1   50   Self-emp-not-inc   Bachelors  ...            13   United-States   <=50K\n",
              "2   38            Private     HS-grad  ...            40   United-States   <=50K\n",
              "3   53            Private        11th  ...            40   United-States   <=50K\n",
              "4   28            Private   Bachelors  ...            40            Cuba   <=50K\n",
              "\n",
              "[5 rows x 14 columns]"
            ]
          },
          "metadata": {
            "tags": []
          },
          "execution_count": 4
        }
      ]
    },
    {
      "cell_type": "code",
      "metadata": {
        "colab": {
          "base_uri": "https://localhost:8080/"
        },
        "id": "Sdo1lqZkZWka",
        "outputId": "b544503c-19b7-4adc-cc20-245e419b2faa"
      },
      "source": [
        "df['Salary'].unique()"
      ],
      "execution_count": 6,
      "outputs": [
        {
          "output_type": "execute_result",
          "data": {
            "text/plain": [
              "array([' <=50K', ' >50K'], dtype=object)"
            ]
          },
          "metadata": {
            "tags": []
          },
          "execution_count": 6
        }
      ]
    },
    {
      "cell_type": "code",
      "metadata": {
        "colab": {
          "base_uri": "https://localhost:8080/"
        },
        "id": "lh4jiaYxZWfz",
        "outputId": "46c45040-3c0c-4949-9629-98781a92f6ef"
      },
      "source": [
        "df['Salary'].value_counts()"
      ],
      "execution_count": 7,
      "outputs": [
        {
          "output_type": "execute_result",
          "data": {
            "text/plain": [
              " <=50K    11360\n",
              " >50K      3700\n",
              "Name: Salary, dtype: int64"
            ]
          },
          "metadata": {
            "tags": []
          },
          "execution_count": 7
        }
      ]
    },
    {
      "cell_type": "code",
      "metadata": {
        "id": "qDmn0dPaZWbc"
      },
      "source": [
        "df['Salary'] = [0 if x== ' <=50K' else 1 for x in df['Salary']]"
      ],
      "execution_count": 8,
      "outputs": []
    },
    {
      "cell_type": "code",
      "metadata": {
        "id": "6gVqGblUZxCI"
      },
      "source": [
        "df_test['Salary'] = [0 if x== ' <=50K' else 1 for x in df_test['Salary']]"
      ],
      "execution_count": 11,
      "outputs": []
    },
    {
      "cell_type": "code",
      "metadata": {
        "colab": {
          "base_uri": "https://localhost:8080/"
        },
        "id": "5b6YikhkZw-S",
        "outputId": "143add68-720a-431d-e741-27965d9a7472"
      },
      "source": [
        "df['Salary'].value_counts()"
      ],
      "execution_count": 12,
      "outputs": [
        {
          "output_type": "execute_result",
          "data": {
            "text/plain": [
              "0    11360\n",
              "1     3700\n",
              "Name: Salary, dtype: int64"
            ]
          },
          "metadata": {
            "tags": []
          },
          "execution_count": 12
        }
      ]
    },
    {
      "cell_type": "code",
      "metadata": {
        "colab": {
          "base_uri": "https://localhost:8080/",
          "height": 388
        },
        "id": "v7ZRqmIeZw7E",
        "outputId": "9dedac00-c678-4592-81fa-15089905cd9d"
      },
      "source": [
        "fig, ax = plt.subplots(figsize=(12,6))\n",
        "sns.countplot(ax=ax, x=df['workclass'],hue=df['Salary']);"
      ],
      "execution_count": 13,
      "outputs": [
        {
          "output_type": "display_data",
          "data": {
            "image/png": "[encoded data removed]",
            "text/plain": [
              "<Figure size 864x432 with 1 Axes>"
            ]
          },
          "metadata": {
            "tags": [],
            "needs_background": "light"
          }
        }
      ]
    },
    {
      "cell_type": "code",
      "metadata": {
        "colab": {
          "base_uri": "https://localhost:8080/",
          "height": 388
        },
        "id": "QsZzzMObZw3b",
        "outputId": "6e3999a1-691f-4823-9386-e14d2a49c5ff"
      },
      "source": [
        "fig, ax = plt.subplots(figsize=(15,6))\n",
        "sns.countplot(x=df['education'],hue=df['Salary']);"
      ],
      "execution_count": 14,
      "outputs": [
        {
          "output_type": "display_data",
          "data": {
            "image/png": "[encoded data removed]",
            "text/plain": [
              "<Figure size 1080x432 with 1 Axes>"
            ]
          },
          "metadata": {
            "tags": [],
            "needs_background": "light"
          }
        }
      ]
    },
    {
      "cell_type": "code",
      "metadata": {
        "id": "64ovgGTOZwzq"
      },
      "source": [
        "df.drop('educationno',axis=1,inplace=True)"
      ],
      "execution_count": 15,
      "outputs": []
    },
    {
      "cell_type": "code",
      "metadata": {
        "id": "80DJ7ofCaNgj"
      },
      "source": [
        "df_test.drop('educationno',axis=1,inplace=True)"
      ],
      "execution_count": 16,
      "outputs": []
    },
    {
      "cell_type": "code",
      "metadata": {
        "colab": {
          "base_uri": "https://localhost:8080/",
          "height": 388
        },
        "id": "lHMBPEmbaNbM",
        "outputId": "5bbfe471-3756-40cd-9932-eade252f84ee"
      },
      "source": [
        "fig, ax = plt.subplots(figsize=(15,6))\n",
        "sns.countplot(x=df['maritalstatus'],hue=df['Salary']);"
      ],
      "execution_count": 17,
      "outputs": [
        {
          "output_type": "display_data",
          "data": {
            "image/png": "[encoded data removed]",
            "text/plain": [
              "<Figure size 1080x432 with 1 Axes>"
            ]
          },
          "metadata": {
            "tags": [],
            "needs_background": "light"
          }
        }
      ]
    },
    {
      "cell_type": "code",
      "metadata": {
        "colab": {
          "base_uri": "https://localhost:8080/",
          "height": 257
        },
        "id": "kfkT4f76aNV6",
        "outputId": "90adafe6-25d5-4dc9-c310-422cfa0bc451"
      },
      "source": [
        "fig, ax = plt.subplots(figsize=(25,6))\n",
        "sns.countplot(x=df['occupation'],hue=df['Salary']);"
      ],
      "execution_count": 18,
      "outputs": [
        {
          "output_type": "display_data",
          "data": {
            "image/png": "[encoded data removed]",
            "text/plain": [
              "<Figure size 1800x432 with 1 Axes>"
            ]
          },
          "metadata": {
            "tags": [],
            "needs_background": "light"
          }
        }
      ]
    },
    {
      "cell_type": "code",
      "metadata": {
        "colab": {
          "base_uri": "https://localhost:8080/",
          "height": 388
        },
        "id": "CcVn0MQpaNQh",
        "outputId": "2211446b-2c6e-45cc-b697-c9ce527fae45"
      },
      "source": [
        "fig, ax = plt.subplots(figsize=(15,6))\n",
        "sns.countplot(x=df['relationship'],hue=df['Salary']);"
      ],
      "execution_count": 19,
      "outputs": [
        {
          "output_type": "display_data",
          "data": {
            "image/png": "[encoded data removed]",
            "text/plain": [
              "<Figure size 1080x432 with 1 Axes>"
            ]
          },
          "metadata": {
            "tags": [],
            "needs_background": "light"
          }
        }
      ]
    },
    {
      "cell_type": "code",
      "metadata": {
        "colab": {
          "base_uri": "https://localhost:8080/",
          "height": 191
        },
        "id": "4CVsJBFsaNLU",
        "outputId": "e5ff4d4d-c354-4609-9c3a-f93e8ea0126e"
      },
      "source": [
        "fig, ax = plt.subplots(figsize=(35,6))\n",
        "sns.countplot(x=df['sex'],hue=df['Salary']);"
      ],
      "execution_count": 20,
      "outputs": [
        {
          "output_type": "display_data",
          "data": {
            "image/png": "[encoded data removed]",
            "text/plain": [
              "<Figure size 2520x432 with 1 Axes>"
            ]
          },
          "metadata": {
            "tags": [],
            "needs_background": "light"
          }
        }
      ]
    },
    {
      "cell_type": "code",
      "metadata": {
        "id": "LNghN0DNaNG4"
      },
      "source": [
        "df = pd.get_dummies(df,drop_first=True)"
      ],
      "execution_count": 21,
      "outputs": []
    },
    {
      "cell_type": "code",
      "metadata": {
        "id": "Tu_B3aBwaNBq"
      },
      "source": [
        "df_test = pd.get_dummies(df_test,drop_first=True)"
      ],
      "execution_count": 22,
      "outputs": []
    },
    {
      "cell_type": "code",
      "metadata": {
        "colab": {
          "base_uri": "https://localhost:8080/",
          "height": 541
        },
        "id": "4FvfikX9aM8C",
        "outputId": "8fb1aae8-b4b5-4da3-d626-f56ad4159c36"
      },
      "source": [
        "df.corr()"
      ],
      "execution_count": 23,
      "outputs": [
        {
          "output_type": "execute_result",
          "data": {
            "text/html": [
              "<div>\n",
              "<style scoped>\n",
              "    .dataframe tbody tr th:only-of-type {\n",
              "        vertical-align: middle;\n",
              "    }\n",
              "\n",
              "    .dataframe tbody tr th {\n",
              "        vertical-align: top;\n",
              "    }\n",
              "\n",
              "    .dataframe thead th {\n",
              "        text-align: right;\n",
              "    }\n",
              "</style>\n",
              "<table border=\"1\" class=\"dataframe\">\n",
              "  <thead>\n",
              "    <tr style=\"text-align: right;\">\n",
              "      <th></th>\n",
              "      <th>age</th>\n",
              "      <th>capitalgain</th>\n",
              "      <th>capitalloss</th>\n",
              "      <th>hoursperweek</th>\n",
              "      <th>Salary</th>\n",
              "      <th>workclass_ Local-gov</th>\n",
              "      <th>workclass_ Private</th>\n",
              "      <th>workclass_ Self-emp-inc</th>\n",
              "      <th>workclass_ Self-emp-not-inc</th>\n",
              "      <th>workclass_ State-gov</th>\n",
              "      <th>workclass_ Without-pay</th>\n",
              "      <th>education_ 11th</th>\n",
              "      <th>education_ 12th</th>\n",
              "      <th>education_ 1st-4th</th>\n",
              "      <th>education_ 5th-6th</th>\n",
              "      <th>education_ 7th-8th</th>\n",
              "      <th>education_ 9th</th>\n",
              "      <th>education_ Assoc-acdm</th>\n",
              "      <th>education_ Assoc-voc</th>\n",
              "      <th>education_ Bachelors</th>\n",
              "      <th>education_ Doctorate</th>\n",
              "      <th>education_ HS-grad</th>\n",
              "      <th>education_ Masters</th>\n",
              "      <th>education_ Preschool</th>\n",
              "      <th>education_ Prof-school</th>\n",
              "      <th>education_ Some-college</th>\n",
              "      <th>maritalstatus_ Married-AF-spouse</th>\n",
              "      <th>maritalstatus_ Married-civ-spouse</th>\n",
              "      <th>maritalstatus_ Married-spouse-absent</th>\n",
              "      <th>maritalstatus_ Never-married</th>\n",
              "      <th>maritalstatus_ Separated</th>\n",
              "      <th>maritalstatus_ Widowed</th>\n",
              "      <th>occupation_ Armed-Forces</th>\n",
              "      <th>occupation_ Craft-repair</th>\n",
              "      <th>occupation_ Exec-managerial</th>\n",
              "      <th>occupation_ Farming-fishing</th>\n",
              "      <th>occupation_ Handlers-cleaners</th>\n",
              "      <th>occupation_ Machine-op-inspct</th>\n",
              "      <th>occupation_ Other-service</th>\n",
              "      <th>occupation_ Priv-house-serv</th>\n",
              "      <th>...</th>\n",
              "      <th>sex_ Male</th>\n",
              "      <th>native_ Canada</th>\n",
              "      <th>native_ China</th>\n",
              "      <th>native_ Columbia</th>\n",
              "      <th>native_ Cuba</th>\n",
              "      <th>native_ Dominican-Republic</th>\n",
              "      <th>native_ Ecuador</th>\n",
              "      <th>native_ El-Salvador</th>\n",
              "      <th>native_ England</th>\n",
              "      <th>native_ France</th>\n",
              "      <th>native_ Germany</th>\n",
              "      <th>native_ Greece</th>\n",
              "      <th>native_ Guatemala</th>\n",
              "      <th>native_ Haiti</th>\n",
              "      <th>native_ Honduras</th>\n",
              "      <th>native_ Hong</th>\n",
              "      <th>native_ Hungary</th>\n",
              "      <th>native_ India</th>\n",
              "      <th>native_ Iran</th>\n",
              "      <th>native_ Ireland</th>\n",
              "      <th>native_ Italy</th>\n",
              "      <th>native_ Jamaica</th>\n",
              "      <th>native_ Japan</th>\n",
              "      <th>native_ Laos</th>\n",
              "      <th>native_ Mexico</th>\n",
              "      <th>native_ Nicaragua</th>\n",
              "      <th>native_ Outlying-US(Guam-USVI-etc)</th>\n",
              "      <th>native_ Peru</th>\n",
              "      <th>native_ Philippines</th>\n",
              "      <th>native_ Poland</th>\n",
              "      <th>native_ Portugal</th>\n",
              "      <th>native_ Puerto-Rico</th>\n",
              "      <th>native_ Scotland</th>\n",
              "      <th>native_ South</th>\n",
              "      <th>native_ Taiwan</th>\n",
              "      <th>native_ Thailand</th>\n",
              "      <th>native_ Trinadad&amp;Tobago</th>\n",
              "      <th>native_ United-States</th>\n",
              "      <th>native_ Vietnam</th>\n",
              "      <th>native_ Yugoslavia</th>\n",
              "    </tr>\n",
              "  </thead>\n",
              "  <tbody>\n",
              "    <tr>\n",
              "      <th>age</th>\n",
              "      <td>1.000000</td>\n",
              "      <td>0.078760</td>\n",
              "      <td>0.057745</td>\n",
              "      <td>0.102758</td>\n",
              "      <td>0.227469</td>\n",
              "      <td>0.054745</td>\n",
              "      <td>-0.208149</td>\n",
              "      <td>0.098253</td>\n",
              "      <td>0.167119</td>\n",
              "      <td>0.017452</td>\n",
              "      <td>0.012115</td>\n",
              "      <td>-0.101692</td>\n",
              "      <td>-0.044075</td>\n",
              "      <td>0.038285</td>\n",
              "      <td>0.040259</td>\n",
              "      <td>0.123597</td>\n",
              "      <td>0.014453</td>\n",
              "      <td>-0.005168</td>\n",
              "      <td>-0.003510</td>\n",
              "      <td>-0.004075</td>\n",
              "      <td>0.064880</td>\n",
              "      <td>0.015907</td>\n",
              "      <td>0.092040</td>\n",
              "      <td>0.006365</td>\n",
              "      <td>0.068309</td>\n",
              "      <td>-0.101745</td>\n",
              "      <td>-0.015697</td>\n",
              "      <td>0.303306</td>\n",
              "      <td>0.016313</td>\n",
              "      <td>-0.532679</td>\n",
              "      <td>0.017982</td>\n",
              "      <td>0.272539</td>\n",
              "      <td>-0.005677</td>\n",
              "      <td>0.005100</td>\n",
              "      <td>0.101725</td>\n",
              "      <td>0.037158</td>\n",
              "      <td>-0.085891</td>\n",
              "      <td>-0.021057</td>\n",
              "      <td>-0.087469</td>\n",
              "      <td>0.041154</td>\n",
              "      <td>...</td>\n",
              "      <td>0.082265</td>\n",
              "      <td>0.030247</td>\n",
              "      <td>0.006221</td>\n",
              "      <td>0.000361</td>\n",
              "      <td>0.030906</td>\n",
              "      <td>-0.002232</td>\n",
              "      <td>0.001022</td>\n",
              "      <td>-0.028303</td>\n",
              "      <td>0.007285</td>\n",
              "      <td>0.010780</td>\n",
              "      <td>-0.005370</td>\n",
              "      <td>0.017801</td>\n",
              "      <td>-0.025756</td>\n",
              "      <td>0.000851</td>\n",
              "      <td>-0.002389</td>\n",
              "      <td>-0.005059</td>\n",
              "      <td>0.013663</td>\n",
              "      <td>0.002659</td>\n",
              "      <td>-0.006311</td>\n",
              "      <td>0.003831</td>\n",
              "      <td>0.015025</td>\n",
              "      <td>0.009827</td>\n",
              "      <td>-0.010802</td>\n",
              "      <td>0.002719</td>\n",
              "      <td>-0.043084</td>\n",
              "      <td>0.008413</td>\n",
              "      <td>0.002768</td>\n",
              "      <td>0.000232</td>\n",
              "      <td>0.006770</td>\n",
              "      <td>0.012531</td>\n",
              "      <td>0.012382</td>\n",
              "      <td>-0.000955</td>\n",
              "      <td>0.030071</td>\n",
              "      <td>-0.003233</td>\n",
              "      <td>-0.006926</td>\n",
              "      <td>0.006293</td>\n",
              "      <td>-0.007570</td>\n",
              "      <td>0.003503</td>\n",
              "      <td>-0.005816</td>\n",
              "      <td>0.008892</td>\n",
              "    </tr>\n",
              "    <tr>\n",
              "      <th>capitalgain</th>\n",
              "      <td>0.078760</td>\n",
              "      <td>1.000000</td>\n",
              "      <td>-0.031876</td>\n",
              "      <td>0.090501</td>\n",
              "      <td>0.220882</td>\n",
              "      <td>-0.016926</td>\n",
              "      <td>-0.047502</td>\n",
              "      <td>0.113224</td>\n",
              "      <td>0.018471</td>\n",
              "      <td>-0.006817</td>\n",
              "      <td>-0.003136</td>\n",
              "      <td>-0.023617</td>\n",
              "      <td>-0.015816</td>\n",
              "      <td>-0.008829</td>\n",
              "      <td>-0.004657</td>\n",
              "      <td>-0.014829</td>\n",
              "      <td>-0.013445</td>\n",
              "      <td>-0.012316</td>\n",
              "      <td>-0.004950</td>\n",
              "      <td>0.037485</td>\n",
              "      <td>0.100240</td>\n",
              "      <td>-0.050307</td>\n",
              "      <td>0.047751</td>\n",
              "      <td>-0.003120</td>\n",
              "      <td>0.173194</td>\n",
              "      <td>-0.040019</td>\n",
              "      <td>0.027975</td>\n",
              "      <td>0.068724</td>\n",
              "      <td>-0.006489</td>\n",
              "      <td>-0.061100</td>\n",
              "      <td>-0.009330</td>\n",
              "      <td>-0.008367</td>\n",
              "      <td>0.000803</td>\n",
              "      <td>-0.015731</td>\n",
              "      <td>0.058746</td>\n",
              "      <td>-0.003374</td>\n",
              "      <td>-0.022392</td>\n",
              "      <td>-0.028690</td>\n",
              "      <td>-0.037791</td>\n",
              "      <td>-0.010864</td>\n",
              "      <td>...</td>\n",
              "      <td>0.044843</td>\n",
              "      <td>-0.002866</td>\n",
              "      <td>0.014821</td>\n",
              "      <td>-0.006048</td>\n",
              "      <td>-0.002628</td>\n",
              "      <td>-0.005742</td>\n",
              "      <td>-0.004743</td>\n",
              "      <td>-0.008138</td>\n",
              "      <td>0.004042</td>\n",
              "      <td>-0.003556</td>\n",
              "      <td>0.003213</td>\n",
              "      <td>-0.000994</td>\n",
              "      <td>-0.005688</td>\n",
              "      <td>-0.001615</td>\n",
              "      <td>-0.002534</td>\n",
              "      <td>0.001743</td>\n",
              "      <td>-0.002650</td>\n",
              "      <td>0.010742</td>\n",
              "      <td>-0.004436</td>\n",
              "      <td>-0.000893</td>\n",
              "      <td>0.000616</td>\n",
              "      <td>-0.004652</td>\n",
              "      <td>-0.003676</td>\n",
              "      <td>-0.002371</td>\n",
              "      <td>-0.009725</td>\n",
              "      <td>-0.004592</td>\n",
              "      <td>-0.003353</td>\n",
              "      <td>-0.004592</td>\n",
              "      <td>0.014921</td>\n",
              "      <td>-0.005931</td>\n",
              "      <td>-0.005241</td>\n",
              "      <td>-0.006316</td>\n",
              "      <td>-0.003556</td>\n",
              "      <td>0.001489</td>\n",
              "      <td>0.000762</td>\n",
              "      <td>-0.001877</td>\n",
              "      <td>-0.002179</td>\n",
              "      <td>0.008096</td>\n",
              "      <td>-0.003286</td>\n",
              "      <td>0.003071</td>\n",
              "    </tr>\n",
              "    <tr>\n",
              "      <th>capitalloss</th>\n",
              "      <td>0.057745</td>\n",
              "      <td>-0.031876</td>\n",
              "      <td>1.000000</td>\n",
              "      <td>0.057712</td>\n",
              "      <td>0.145967</td>\n",
              "      <td>-0.001063</td>\n",
              "      <td>-0.026207</td>\n",
              "      <td>0.049314</td>\n",
              "      <td>0.006089</td>\n",
              "      <td>-0.002882</td>\n",
              "      <td>0.009582</td>\n",
              "      <td>-0.020251</td>\n",
              "      <td>-0.018353</td>\n",
              "      <td>-0.006110</td>\n",
              "      <td>-0.006382</td>\n",
              "      <td>-0.016535</td>\n",
              "      <td>-0.010101</td>\n",
              "      <td>-0.000465</td>\n",
              "      <td>-0.010707</td>\n",
              "      <td>0.055203</td>\n",
              "      <td>0.021687</td>\n",
              "      <td>-0.038520</td>\n",
              "      <td>0.042924</td>\n",
              "      <td>-0.009288</td>\n",
              "      <td>0.050852</td>\n",
              "      <td>-0.014393</td>\n",
              "      <td>0.003058</td>\n",
              "      <td>0.067151</td>\n",
              "      <td>-0.003730</td>\n",
              "      <td>-0.054930</td>\n",
              "      <td>-0.014036</td>\n",
              "      <td>-0.002067</td>\n",
              "      <td>-0.003994</td>\n",
              "      <td>-0.024189</td>\n",
              "      <td>0.052471</td>\n",
              "      <td>-0.016563</td>\n",
              "      <td>-0.018724</td>\n",
              "      <td>-0.011837</td>\n",
              "      <td>-0.034316</td>\n",
              "      <td>-0.002906</td>\n",
              "      <td>...</td>\n",
              "      <td>0.045360</td>\n",
              "      <td>0.008493</td>\n",
              "      <td>0.010029</td>\n",
              "      <td>0.006413</td>\n",
              "      <td>-0.005175</td>\n",
              "      <td>-0.001515</td>\n",
              "      <td>-0.007148</td>\n",
              "      <td>-0.005409</td>\n",
              "      <td>0.012044</td>\n",
              "      <td>0.004057</td>\n",
              "      <td>-0.009501</td>\n",
              "      <td>-0.007992</td>\n",
              "      <td>-0.008572</td>\n",
              "      <td>-0.002566</td>\n",
              "      <td>0.003903</td>\n",
              "      <td>0.032674</td>\n",
              "      <td>-0.003994</td>\n",
              "      <td>0.000384</td>\n",
              "      <td>0.003435</td>\n",
              "      <td>0.003496</td>\n",
              "      <td>0.002487</td>\n",
              "      <td>-0.000674</td>\n",
              "      <td>-0.002820</td>\n",
              "      <td>0.013880</td>\n",
              "      <td>-0.012951</td>\n",
              "      <td>-0.006920</td>\n",
              "      <td>-0.005053</td>\n",
              "      <td>-0.006920</td>\n",
              "      <td>-0.004001</td>\n",
              "      <td>-0.001132</td>\n",
              "      <td>-0.009459</td>\n",
              "      <td>0.017583</td>\n",
              "      <td>-0.005359</td>\n",
              "      <td>-0.002875</td>\n",
              "      <td>-0.006442</td>\n",
              "      <td>0.002413</td>\n",
              "      <td>-0.005053</td>\n",
              "      <td>0.004940</td>\n",
              "      <td>-0.000519</td>\n",
              "      <td>-0.004726</td>\n",
              "    </tr>\n",
              "    <tr>\n",
              "      <th>hoursperweek</th>\n",
              "      <td>0.102758</td>\n",
              "      <td>0.090501</td>\n",
              "      <td>0.057712</td>\n",
              "      <td>1.000000</td>\n",
              "      <td>0.222665</td>\n",
              "      <td>-0.008102</td>\n",
              "      <td>-0.092627</td>\n",
              "      <td>0.118697</td>\n",
              "      <td>0.088353</td>\n",
              "      <td>-0.030334</td>\n",
              "      <td>-0.008086</td>\n",
              "      <td>-0.104088</td>\n",
              "      <td>-0.053730</td>\n",
              "      <td>-0.000286</td>\n",
              "      <td>-0.017568</td>\n",
              "      <td>-0.020107</td>\n",
              "      <td>-0.015029</td>\n",
              "      <td>0.019258</td>\n",
              "      <td>0.020545</td>\n",
              "      <td>0.061325</td>\n",
              "      <td>0.045370</td>\n",
              "      <td>0.015419</td>\n",
              "      <td>0.052584</td>\n",
              "      <td>-0.015055</td>\n",
              "      <td>0.073170</td>\n",
              "      <td>-0.057943</td>\n",
              "      <td>-0.003559</td>\n",
              "      <td>0.224991</td>\n",
              "      <td>-0.002982</td>\n",
              "      <td>-0.211597</td>\n",
              "      <td>-0.006797</td>\n",
              "      <td>-0.078186</td>\n",
              "      <td>0.004001</td>\n",
              "      <td>0.040368</td>\n",
              "      <td>0.130483</td>\n",
              "      <td>0.084706</td>\n",
              "      <td>-0.056983</td>\n",
              "      <td>-0.002900</td>\n",
              "      <td>-0.175651</td>\n",
              "      <td>-0.050467</td>\n",
              "      <td>...</td>\n",
              "      <td>0.231744</td>\n",
              "      <td>0.004315</td>\n",
              "      <td>-0.005126</td>\n",
              "      <td>0.003217</td>\n",
              "      <td>0.007922</td>\n",
              "      <td>-0.001179</td>\n",
              "      <td>-0.001390</td>\n",
              "      <td>-0.024547</td>\n",
              "      <td>0.012196</td>\n",
              "      <td>-0.011164</td>\n",
              "      <td>-0.004774</td>\n",
              "      <td>0.029622</td>\n",
              "      <td>-0.012107</td>\n",
              "      <td>-0.009199</td>\n",
              "      <td>-0.011661</td>\n",
              "      <td>-0.004182</td>\n",
              "      <td>0.004001</td>\n",
              "      <td>0.008219</td>\n",
              "      <td>0.004819</td>\n",
              "      <td>0.004015</td>\n",
              "      <td>-0.005792</td>\n",
              "      <td>0.001144</td>\n",
              "      <td>-0.005870</td>\n",
              "      <td>-0.001286</td>\n",
              "      <td>-0.006967</td>\n",
              "      <td>-0.005981</td>\n",
              "      <td>-0.000624</td>\n",
              "      <td>-0.005283</td>\n",
              "      <td>-0.006077</td>\n",
              "      <td>-0.012818</td>\n",
              "      <td>0.006179</td>\n",
              "      <td>-0.008401</td>\n",
              "      <td>0.002576</td>\n",
              "      <td>0.017834</td>\n",
              "      <td>0.001617</td>\n",
              "      <td>0.006161</td>\n",
              "      <td>0.002959</td>\n",
              "      <td>0.009312</td>\n",
              "      <td>-0.002184</td>\n",
              "      <td>-0.019068</td>\n",
              "    </tr>\n",
              "    <tr>\n",
              "      <th>Salary</th>\n",
              "      <td>0.227469</td>\n",
              "      <td>0.220882</td>\n",
              "      <td>0.145967</td>\n",
              "      <td>0.222665</td>\n",
              "      <td>1.000000</td>\n",
              "      <td>0.031860</td>\n",
              "      <td>-0.115829</td>\n",
              "      <td>0.138362</td>\n",
              "      <td>0.014486</td>\n",
              "      <td>0.009093</td>\n",
              "      <td>0.002005</td>\n",
              "      <td>-0.089067</td>\n",
              "      <td>-0.047345</td>\n",
              "      <td>-0.034775</td>\n",
              "      <td>-0.044328</td>\n",
              "      <td>-0.053106</td>\n",
              "      <td>-0.052972</td>\n",
              "      <td>0.016721</td>\n",
              "      <td>-0.000141</td>\n",
              "      <td>0.178097</td>\n",
              "      <td>0.113453</td>\n",
              "      <td>-0.136457</td>\n",
              "      <td>0.168425</td>\n",
              "      <td>-0.020540</td>\n",
              "      <td>0.154615</td>\n",
              "      <td>-0.051666</td>\n",
              "      <td>0.007408</td>\n",
              "      <td>0.447743</td>\n",
              "      <td>-0.030653</td>\n",
              "      <td>-0.318494</td>\n",
              "      <td>-0.073443</td>\n",
              "      <td>-0.063016</td>\n",
              "      <td>0.014999</td>\n",
              "      <td>-0.019090</td>\n",
              "      <td>0.200599</td>\n",
              "      <td>-0.055265</td>\n",
              "      <td>-0.087423</td>\n",
              "      <td>-0.078325</td>\n",
              "      <td>-0.164419</td>\n",
              "      <td>-0.039978</td>\n",
              "      <td>...</td>\n",
              "      <td>0.213863</td>\n",
              "      <td>0.025954</td>\n",
              "      <td>0.013972</td>\n",
              "      <td>-0.016303</td>\n",
              "      <td>-0.003176</td>\n",
              "      <td>-0.015119</td>\n",
              "      <td>-0.009142</td>\n",
              "      <td>-0.026401</td>\n",
              "      <td>0.029333</td>\n",
              "      <td>0.011290</td>\n",
              "      <td>-0.004634</td>\n",
              "      <td>0.021543</td>\n",
              "      <td>-0.022320</td>\n",
              "      <td>-0.005956</td>\n",
              "      <td>-0.005151</td>\n",
              "      <td>-0.001333</td>\n",
              "      <td>0.014999</td>\n",
              "      <td>0.028906</td>\n",
              "      <td>0.002836</td>\n",
              "      <td>0.011216</td>\n",
              "      <td>0.003812</td>\n",
              "      <td>-0.006520</td>\n",
              "      <td>0.002178</td>\n",
              "      <td>-0.009302</td>\n",
              "      <td>-0.064755</td>\n",
              "      <td>-0.013130</td>\n",
              "      <td>-0.006463</td>\n",
              "      <td>-0.008241</td>\n",
              "      <td>0.001286</td>\n",
              "      <td>-0.004327</td>\n",
              "      <td>0.004013</td>\n",
              "      <td>-0.019183</td>\n",
              "      <td>-0.013956</td>\n",
              "      <td>-0.011660</td>\n",
              "      <td>0.014738</td>\n",
              "      <td>-0.005183</td>\n",
              "      <td>-0.013157</td>\n",
              "      <td>0.036337</td>\n",
              "      <td>-0.011593</td>\n",
              "      <td>0.002005</td>\n",
              "    </tr>\n",
              "    <tr>\n",
              "      <th>...</th>\n",
              "      <td>...</td>\n",
              "      <td>...</td>\n",
              "      <td>...</td>\n",
              "      <td>...</td>\n",
              "      <td>...</td>\n",
              "      <td>...</td>\n",
              "      <td>...</td>\n",
              "      <td>...</td>\n",
              "      <td>...</td>\n",
              "      <td>...</td>\n",
              "      <td>...</td>\n",
              "      <td>...</td>\n",
              "      <td>...</td>\n",
              "      <td>...</td>\n",
              "      <td>...</td>\n",
              "      <td>...</td>\n",
              "      <td>...</td>\n",
              "      <td>...</td>\n",
              "      <td>...</td>\n",
              "      <td>...</td>\n",
              "      <td>...</td>\n",
              "      <td>...</td>\n",
              "      <td>...</td>\n",
              "      <td>...</td>\n",
              "      <td>...</td>\n",
              "      <td>...</td>\n",
              "      <td>...</td>\n",
              "      <td>...</td>\n",
              "      <td>...</td>\n",
              "      <td>...</td>\n",
              "      <td>...</td>\n",
              "      <td>...</td>\n",
              "      <td>...</td>\n",
              "      <td>...</td>\n",
              "      <td>...</td>\n",
              "      <td>...</td>\n",
              "      <td>...</td>\n",
              "      <td>...</td>\n",
              "      <td>...</td>\n",
              "      <td>...</td>\n",
              "      <td>...</td>\n",
              "      <td>...</td>\n",
              "      <td>...</td>\n",
              "      <td>...</td>\n",
              "      <td>...</td>\n",
              "      <td>...</td>\n",
              "      <td>...</td>\n",
              "      <td>...</td>\n",
              "      <td>...</td>\n",
              "      <td>...</td>\n",
              "      <td>...</td>\n",
              "      <td>...</td>\n",
              "      <td>...</td>\n",
              "      <td>...</td>\n",
              "      <td>...</td>\n",
              "      <td>...</td>\n",
              "      <td>...</td>\n",
              "      <td>...</td>\n",
              "      <td>...</td>\n",
              "      <td>...</td>\n",
              "      <td>...</td>\n",
              "      <td>...</td>\n",
              "      <td>...</td>\n",
              "      <td>...</td>\n",
              "      <td>...</td>\n",
              "      <td>...</td>\n",
              "      <td>...</td>\n",
              "      <td>...</td>\n",
              "      <td>...</td>\n",
              "      <td>...</td>\n",
              "      <td>...</td>\n",
              "      <td>...</td>\n",
              "      <td>...</td>\n",
              "      <td>...</td>\n",
              "      <td>...</td>\n",
              "      <td>...</td>\n",
              "      <td>...</td>\n",
              "      <td>...</td>\n",
              "      <td>...</td>\n",
              "      <td>...</td>\n",
              "      <td>...</td>\n",
              "    </tr>\n",
              "    <tr>\n",
              "      <th>native_ Thailand</th>\n",
              "      <td>0.006293</td>\n",
              "      <td>-0.001877</td>\n",
              "      <td>0.002413</td>\n",
              "      <td>0.006161</td>\n",
              "      <td>-0.005183</td>\n",
              "      <td>0.001647</td>\n",
              "      <td>0.006472</td>\n",
              "      <td>0.006700</td>\n",
              "      <td>-0.008669</td>\n",
              "      <td>-0.006079</td>\n",
              "      <td>-0.000609</td>\n",
              "      <td>-0.005606</td>\n",
              "      <td>-0.003276</td>\n",
              "      <td>0.032411</td>\n",
              "      <td>-0.002936</td>\n",
              "      <td>-0.003787</td>\n",
              "      <td>-0.003446</td>\n",
              "      <td>0.021068</td>\n",
              "      <td>0.005556</td>\n",
              "      <td>-0.000080</td>\n",
              "      <td>-0.003008</td>\n",
              "      <td>0.000307</td>\n",
              "      <td>0.002931</td>\n",
              "      <td>-0.001197</td>\n",
              "      <td>0.015061</td>\n",
              "      <td>-0.014730</td>\n",
              "      <td>-0.000763</td>\n",
              "      <td>0.006749</td>\n",
              "      <td>-0.003123</td>\n",
              "      <td>-0.004437</td>\n",
              "      <td>-0.005080</td>\n",
              "      <td>-0.004956</td>\n",
              "      <td>-0.000515</td>\n",
              "      <td>-0.004070</td>\n",
              "      <td>0.002867</td>\n",
              "      <td>0.008067</td>\n",
              "      <td>-0.006216</td>\n",
              "      <td>-0.007547</td>\n",
              "      <td>0.020858</td>\n",
              "      <td>-0.002177</td>\n",
              "      <td>...</td>\n",
              "      <td>0.004591</td>\n",
              "      <td>-0.001725</td>\n",
              "      <td>-0.001546</td>\n",
              "      <td>-0.001174</td>\n",
              "      <td>-0.001475</td>\n",
              "      <td>-0.001262</td>\n",
              "      <td>-0.000921</td>\n",
              "      <td>-0.001580</td>\n",
              "      <td>-0.001323</td>\n",
              "      <td>-0.000691</td>\n",
              "      <td>-0.001859</td>\n",
              "      <td>-0.001030</td>\n",
              "      <td>-0.001104</td>\n",
              "      <td>-0.001197</td>\n",
              "      <td>-0.000609</td>\n",
              "      <td>-0.000691</td>\n",
              "      <td>-0.000515</td>\n",
              "      <td>-0.001580</td>\n",
              "      <td>-0.000861</td>\n",
              "      <td>-0.000797</td>\n",
              "      <td>-0.001303</td>\n",
              "      <td>-0.001104</td>\n",
              "      <td>-0.001262</td>\n",
              "      <td>-0.000460</td>\n",
              "      <td>-0.003978</td>\n",
              "      <td>-0.000892</td>\n",
              "      <td>-0.000651</td>\n",
              "      <td>-0.000892</td>\n",
              "      <td>-0.002250</td>\n",
              "      <td>-0.001152</td>\n",
              "      <td>-0.001219</td>\n",
              "      <td>-0.001874</td>\n",
              "      <td>-0.000691</td>\n",
              "      <td>-0.001262</td>\n",
              "      <td>-0.000830</td>\n",
              "      <td>1.000000</td>\n",
              "      <td>-0.000651</td>\n",
              "      <td>-0.092973</td>\n",
              "      <td>-0.001004</td>\n",
              "      <td>-0.000609</td>\n",
              "    </tr>\n",
              "    <tr>\n",
              "      <th>native_ Trinadad&amp;Tobago</th>\n",
              "      <td>-0.007570</td>\n",
              "      <td>-0.002179</td>\n",
              "      <td>-0.005053</td>\n",
              "      <td>0.002959</td>\n",
              "      <td>-0.013157</td>\n",
              "      <td>0.005145</td>\n",
              "      <td>-0.005558</td>\n",
              "      <td>0.010495</td>\n",
              "      <td>-0.007077</td>\n",
              "      <td>-0.004963</td>\n",
              "      <td>-0.000497</td>\n",
              "      <td>-0.004577</td>\n",
              "      <td>-0.002675</td>\n",
              "      <td>-0.001587</td>\n",
              "      <td>-0.002397</td>\n",
              "      <td>-0.003091</td>\n",
              "      <td>-0.002813</td>\n",
              "      <td>-0.004268</td>\n",
              "      <td>-0.004904</td>\n",
              "      <td>-0.010350</td>\n",
              "      <td>-0.002456</td>\n",
              "      <td>0.002297</td>\n",
              "      <td>0.018713</td>\n",
              "      <td>-0.000977</td>\n",
              "      <td>-0.002952</td>\n",
              "      <td>0.009059</td>\n",
              "      <td>-0.000623</td>\n",
              "      <td>0.007436</td>\n",
              "      <td>-0.002550</td>\n",
              "      <td>0.002538</td>\n",
              "      <td>-0.004147</td>\n",
              "      <td>-0.004046</td>\n",
              "      <td>-0.000420</td>\n",
              "      <td>-0.008996</td>\n",
              "      <td>-0.009001</td>\n",
              "      <td>-0.004232</td>\n",
              "      <td>-0.005075</td>\n",
              "      <td>0.005391</td>\n",
              "      <td>0.020149</td>\n",
              "      <td>-0.001778</td>\n",
              "      <td>...</td>\n",
              "      <td>-0.002398</td>\n",
              "      <td>-0.001408</td>\n",
              "      <td>-0.001262</td>\n",
              "      <td>-0.000959</td>\n",
              "      <td>-0.001205</td>\n",
              "      <td>-0.001030</td>\n",
              "      <td>-0.000752</td>\n",
              "      <td>-0.001290</td>\n",
              "      <td>-0.001080</td>\n",
              "      <td>-0.000564</td>\n",
              "      <td>-0.001518</td>\n",
              "      <td>-0.000841</td>\n",
              "      <td>-0.000902</td>\n",
              "      <td>-0.000977</td>\n",
              "      <td>-0.000497</td>\n",
              "      <td>-0.000564</td>\n",
              "      <td>-0.000420</td>\n",
              "      <td>-0.001290</td>\n",
              "      <td>-0.000703</td>\n",
              "      <td>-0.000651</td>\n",
              "      <td>-0.001064</td>\n",
              "      <td>-0.000902</td>\n",
              "      <td>-0.001030</td>\n",
              "      <td>-0.000376</td>\n",
              "      <td>-0.003247</td>\n",
              "      <td>-0.000728</td>\n",
              "      <td>-0.000531</td>\n",
              "      <td>-0.000728</td>\n",
              "      <td>-0.001837</td>\n",
              "      <td>-0.000940</td>\n",
              "      <td>-0.000995</td>\n",
              "      <td>-0.001530</td>\n",
              "      <td>-0.000564</td>\n",
              "      <td>-0.001030</td>\n",
              "      <td>-0.000678</td>\n",
              "      <td>-0.000651</td>\n",
              "      <td>1.000000</td>\n",
              "      <td>-0.075902</td>\n",
              "      <td>-0.000819</td>\n",
              "      <td>-0.000497</td>\n",
              "    </tr>\n",
              "    <tr>\n",
              "      <th>native_ United-States</th>\n",
              "      <td>0.003503</td>\n",
              "      <td>0.008096</td>\n",
              "      <td>0.004940</td>\n",
              "      <td>0.009312</td>\n",
              "      <td>0.036337</td>\n",
              "      <td>0.037079</td>\n",
              "      <td>-0.043196</td>\n",
              "      <td>0.001639</td>\n",
              "      <td>0.008126</td>\n",
              "      <td>0.022442</td>\n",
              "      <td>0.006550</td>\n",
              "      <td>0.009037</td>\n",
              "      <td>-0.018998</td>\n",
              "      <td>-0.181278</td>\n",
              "      <td>-0.214545</td>\n",
              "      <td>-0.060788</td>\n",
              "      <td>-0.052293</td>\n",
              "      <td>0.010868</td>\n",
              "      <td>0.016507</td>\n",
              "      <td>0.021954</td>\n",
              "      <td>-0.015247</td>\n",
              "      <td>0.043985</td>\n",
              "      <td>-0.007183</td>\n",
              "      <td>-0.111307</td>\n",
              "      <td>-0.012273</td>\n",
              "      <td>0.061759</td>\n",
              "      <td>-0.000627</td>\n",
              "      <td>-0.014656</td>\n",
              "      <td>-0.082230</td>\n",
              "      <td>0.006891</td>\n",
              "      <td>-0.012517</td>\n",
              "      <td>0.001414</td>\n",
              "      <td>0.005535</td>\n",
              "      <td>-0.002764</td>\n",
              "      <td>0.033302</td>\n",
              "      <td>-0.031636</td>\n",
              "      <td>-0.020716</td>\n",
              "      <td>-0.043268</td>\n",
              "      <td>-0.042821</td>\n",
              "      <td>-0.054466</td>\n",
              "      <td>...</td>\n",
              "      <td>-0.019844</td>\n",
              "      <td>-0.201140</td>\n",
              "      <td>-0.180240</td>\n",
              "      <td>-0.136917</td>\n",
              "      <td>-0.172020</td>\n",
              "      <td>-0.147092</td>\n",
              "      <td>-0.107371</td>\n",
              "      <td>-0.184214</td>\n",
              "      <td>-0.154286</td>\n",
              "      <td>-0.080509</td>\n",
              "      <td>-0.216766</td>\n",
              "      <td>-0.120060</td>\n",
              "      <td>-0.128763</td>\n",
              "      <td>-0.139530</td>\n",
              "      <td>-0.070998</td>\n",
              "      <td>-0.080509</td>\n",
              "      <td>-0.060000</td>\n",
              "      <td>-0.184214</td>\n",
              "      <td>-0.100429</td>\n",
              "      <td>-0.092973</td>\n",
              "      <td>-0.151926</td>\n",
              "      <td>-0.128763</td>\n",
              "      <td>-0.147092</td>\n",
              "      <td>-0.053664</td>\n",
              "      <td>-0.463762</td>\n",
              "      <td>-0.103958</td>\n",
              "      <td>-0.075902</td>\n",
              "      <td>-0.103958</td>\n",
              "      <td>-0.262319</td>\n",
              "      <td>-0.134253</td>\n",
              "      <td>-0.142095</td>\n",
              "      <td>-0.218434</td>\n",
              "      <td>-0.080509</td>\n",
              "      <td>-0.147092</td>\n",
              "      <td>-0.096773</td>\n",
              "      <td>-0.092973</td>\n",
              "      <td>-0.075902</td>\n",
              "      <td>1.000000</td>\n",
              "      <td>-0.117016</td>\n",
              "      <td>-0.070998</td>\n",
              "    </tr>\n",
              "    <tr>\n",
              "      <th>native_ Vietnam</th>\n",
              "      <td>-0.005816</td>\n",
              "      <td>-0.003286</td>\n",
              "      <td>-0.000519</td>\n",
              "      <td>-0.002184</td>\n",
              "      <td>-0.011593</td>\n",
              "      <td>-0.002244</td>\n",
              "      <td>0.004626</td>\n",
              "      <td>-0.007062</td>\n",
              "      <td>0.009093</td>\n",
              "      <td>-0.007651</td>\n",
              "      <td>-0.000766</td>\n",
              "      <td>-0.007056</td>\n",
              "      <td>-0.004123</td>\n",
              "      <td>0.024862</td>\n",
              "      <td>0.014495</td>\n",
              "      <td>-0.004766</td>\n",
              "      <td>-0.004337</td>\n",
              "      <td>0.014323</td>\n",
              "      <td>0.001631</td>\n",
              "      <td>-0.000936</td>\n",
              "      <td>-0.003786</td>\n",
              "      <td>0.011010</td>\n",
              "      <td>-0.008891</td>\n",
              "      <td>-0.001506</td>\n",
              "      <td>-0.004552</td>\n",
              "      <td>-0.009415</td>\n",
              "      <td>-0.000961</td>\n",
              "      <td>0.000680</td>\n",
              "      <td>0.013189</td>\n",
              "      <td>-0.000586</td>\n",
              "      <td>-0.006393</td>\n",
              "      <td>-0.006238</td>\n",
              "      <td>-0.000648</td>\n",
              "      <td>-0.008345</td>\n",
              "      <td>-0.008355</td>\n",
              "      <td>-0.006525</td>\n",
              "      <td>0.018906</td>\n",
              "      <td>0.012999</td>\n",
              "      <td>-0.000082</td>\n",
              "      <td>-0.002740</td>\n",
              "      <td>...</td>\n",
              "      <td>-0.003199</td>\n",
              "      <td>-0.002171</td>\n",
              "      <td>-0.001946</td>\n",
              "      <td>-0.001478</td>\n",
              "      <td>-0.001857</td>\n",
              "      <td>-0.001588</td>\n",
              "      <td>-0.001159</td>\n",
              "      <td>-0.001989</td>\n",
              "      <td>-0.001666</td>\n",
              "      <td>-0.000869</td>\n",
              "      <td>-0.002340</td>\n",
              "      <td>-0.001296</td>\n",
              "      <td>-0.001390</td>\n",
              "      <td>-0.001506</td>\n",
              "      <td>-0.000766</td>\n",
              "      <td>-0.000869</td>\n",
              "      <td>-0.000648</td>\n",
              "      <td>-0.001989</td>\n",
              "      <td>-0.001084</td>\n",
              "      <td>-0.001004</td>\n",
              "      <td>-0.001640</td>\n",
              "      <td>-0.001390</td>\n",
              "      <td>-0.001588</td>\n",
              "      <td>-0.000579</td>\n",
              "      <td>-0.005006</td>\n",
              "      <td>-0.001122</td>\n",
              "      <td>-0.000819</td>\n",
              "      <td>-0.001122</td>\n",
              "      <td>-0.002832</td>\n",
              "      <td>-0.001449</td>\n",
              "      <td>-0.001534</td>\n",
              "      <td>-0.002358</td>\n",
              "      <td>-0.000869</td>\n",
              "      <td>-0.001588</td>\n",
              "      <td>-0.001045</td>\n",
              "      <td>-0.001004</td>\n",
              "      <td>-0.000819</td>\n",
              "      <td>-0.117016</td>\n",
              "      <td>1.000000</td>\n",
              "      <td>-0.000766</td>\n",
              "    </tr>\n",
              "    <tr>\n",
              "      <th>native_ Yugoslavia</th>\n",
              "      <td>0.008892</td>\n",
              "      <td>0.003071</td>\n",
              "      <td>-0.004726</td>\n",
              "      <td>-0.019068</td>\n",
              "      <td>0.002005</td>\n",
              "      <td>-0.005852</td>\n",
              "      <td>-0.007807</td>\n",
              "      <td>-0.004285</td>\n",
              "      <td>0.026323</td>\n",
              "      <td>-0.004642</td>\n",
              "      <td>-0.000465</td>\n",
              "      <td>-0.004281</td>\n",
              "      <td>-0.002502</td>\n",
              "      <td>-0.001484</td>\n",
              "      <td>0.027714</td>\n",
              "      <td>-0.002892</td>\n",
              "      <td>-0.002632</td>\n",
              "      <td>-0.003992</td>\n",
              "      <td>-0.004587</td>\n",
              "      <td>-0.009681</td>\n",
              "      <td>-0.002297</td>\n",
              "      <td>0.024290</td>\n",
              "      <td>-0.005395</td>\n",
              "      <td>-0.000914</td>\n",
              "      <td>-0.002762</td>\n",
              "      <td>-0.011248</td>\n",
              "      <td>-0.000583</td>\n",
              "      <td>-0.001538</td>\n",
              "      <td>-0.002385</td>\n",
              "      <td>-0.001742</td>\n",
              "      <td>-0.003879</td>\n",
              "      <td>0.014309</td>\n",
              "      <td>-0.000393</td>\n",
              "      <td>0.000683</td>\n",
              "      <td>0.018860</td>\n",
              "      <td>-0.003959</td>\n",
              "      <td>-0.004747</td>\n",
              "      <td>0.006587</td>\n",
              "      <td>0.002584</td>\n",
              "      <td>0.038530</td>\n",
              "      <td>...</td>\n",
              "      <td>0.001863</td>\n",
              "      <td>-0.001317</td>\n",
              "      <td>-0.001181</td>\n",
              "      <td>-0.000897</td>\n",
              "      <td>-0.001127</td>\n",
              "      <td>-0.000963</td>\n",
              "      <td>-0.000703</td>\n",
              "      <td>-0.001207</td>\n",
              "      <td>-0.001011</td>\n",
              "      <td>-0.000527</td>\n",
              "      <td>-0.001420</td>\n",
              "      <td>-0.000786</td>\n",
              "      <td>-0.000843</td>\n",
              "      <td>-0.000914</td>\n",
              "      <td>-0.000465</td>\n",
              "      <td>-0.000527</td>\n",
              "      <td>-0.000393</td>\n",
              "      <td>-0.001207</td>\n",
              "      <td>-0.000658</td>\n",
              "      <td>-0.000609</td>\n",
              "      <td>-0.000995</td>\n",
              "      <td>-0.000843</td>\n",
              "      <td>-0.000963</td>\n",
              "      <td>-0.000351</td>\n",
              "      <td>-0.003038</td>\n",
              "      <td>-0.000681</td>\n",
              "      <td>-0.000497</td>\n",
              "      <td>-0.000681</td>\n",
              "      <td>-0.001718</td>\n",
              "      <td>-0.000879</td>\n",
              "      <td>-0.000931</td>\n",
              "      <td>-0.001431</td>\n",
              "      <td>-0.000527</td>\n",
              "      <td>-0.000963</td>\n",
              "      <td>-0.000634</td>\n",
              "      <td>-0.000609</td>\n",
              "      <td>-0.000497</td>\n",
              "      <td>-0.070998</td>\n",
              "      <td>-0.000766</td>\n",
              "      <td>1.000000</td>\n",
              "    </tr>\n",
              "  </tbody>\n",
              "</table>\n",
              "<p>94 rows × 94 columns</p>\n",
              "</div>"
            ],
            "text/plain": [
              "                              age  ...  native_ Yugoslavia\n",
              "age                      1.000000  ...            0.008892\n",
              "capitalgain              0.078760  ...            0.003071\n",
              "capitalloss              0.057745  ...           -0.004726\n",
              "hoursperweek             0.102758  ...           -0.019068\n",
              "Salary                   0.227469  ...            0.002005\n",
              "...                           ...  ...                 ...\n",
              "native_ Thailand         0.006293  ...           -0.000609\n",
              "native_ Trinadad&Tobago -0.007570  ...           -0.000497\n",
              "native_ United-States    0.003503  ...           -0.070998\n",
              "native_ Vietnam         -0.005816  ...           -0.000766\n",
              "native_ Yugoslavia       0.008892  ...            1.000000\n",
              "\n",
              "[94 rows x 94 columns]"
            ]
          },
          "metadata": {
            "tags": []
          },
          "execution_count": 23
        }
      ]
    },
    {
      "cell_type": "code",
      "metadata": {
        "colab": {
          "base_uri": "https://localhost:8080/"
        },
        "id": "dwt4qkAsbW0Z",
        "outputId": "2933269d-1c82-4d97-a36c-635d5808abb8"
      },
      "source": [
        "df.columns"
      ],
      "execution_count": 24,
      "outputs": [
        {
          "output_type": "execute_result",
          "data": {
            "text/plain": [
              "Index(['age', 'capitalgain', 'capitalloss', 'hoursperweek', 'Salary',\n",
              "       'workclass_ Local-gov', 'workclass_ Private', 'workclass_ Self-emp-inc',\n",
              "       'workclass_ Self-emp-not-inc', 'workclass_ State-gov',\n",
              "       'workclass_ Without-pay', 'education_ 11th', 'education_ 12th',\n",
              "       'education_ 1st-4th', 'education_ 5th-6th', 'education_ 7th-8th',\n",
              "       'education_ 9th', 'education_ Assoc-acdm', 'education_ Assoc-voc',\n",
              "       'education_ Bachelors', 'education_ Doctorate', 'education_ HS-grad',\n",
              "       'education_ Masters', 'education_ Preschool', 'education_ Prof-school',\n",
              "       'education_ Some-college', 'maritalstatus_ Married-AF-spouse',\n",
              "       'maritalstatus_ Married-civ-spouse',\n",
              "       'maritalstatus_ Married-spouse-absent', 'maritalstatus_ Never-married',\n",
              "       'maritalstatus_ Separated', 'maritalstatus_ Widowed',\n",
              "       'occupation_ Armed-Forces', 'occupation_ Craft-repair',\n",
              "       'occupation_ Exec-managerial', 'occupation_ Farming-fishing',\n",
              "       'occupation_ Handlers-cleaners', 'occupation_ Machine-op-inspct',\n",
              "       'occupation_ Other-service', 'occupation_ Priv-house-serv',\n",
              "       'occupation_ Prof-specialty', 'occupation_ Protective-serv',\n",
              "       'occupation_ Sales', 'occupation_ Tech-support',\n",
              "       'occupation_ Transport-moving', 'relationship_ Not-in-family',\n",
              "       'relationship_ Other-relative', 'relationship_ Own-child',\n",
              "       'relationship_ Unmarried', 'relationship_ Wife',\n",
              "       'race_ Asian-Pac-Islander', 'race_ Black', 'race_ Other', 'race_ White',\n",
              "       'sex_ Male', 'native_ Canada', 'native_ China', 'native_ Columbia',\n",
              "       'native_ Cuba', 'native_ Dominican-Republic', 'native_ Ecuador',\n",
              "       'native_ El-Salvador', 'native_ England', 'native_ France',\n",
              "       'native_ Germany', 'native_ Greece', 'native_ Guatemala',\n",
              "       'native_ Haiti', 'native_ Honduras', 'native_ Hong', 'native_ Hungary',\n",
              "       'native_ India', 'native_ Iran', 'native_ Ireland', 'native_ Italy',\n",
              "       'native_ Jamaica', 'native_ Japan', 'native_ Laos', 'native_ Mexico',\n",
              "       'native_ Nicaragua', 'native_ Outlying-US(Guam-USVI-etc)',\n",
              "       'native_ Peru', 'native_ Philippines', 'native_ Poland',\n",
              "       'native_ Portugal', 'native_ Puerto-Rico', 'native_ Scotland',\n",
              "       'native_ South', 'native_ Taiwan', 'native_ Thailand',\n",
              "       'native_ Trinadad&Tobago', 'native_ United-States', 'native_ Vietnam',\n",
              "       'native_ Yugoslavia'],\n",
              "      dtype='object')"
            ]
          },
          "metadata": {
            "tags": []
          },
          "execution_count": 24
        }
      ]
    },
    {
      "cell_type": "code",
      "metadata": {
        "id": "Cjgw3DHwbWud"
      },
      "source": [
        "df.drop(['maritalstatus_ Married-civ-spouse','maritalstatus_ Married-AF-spouse',\n",
        "         'workclass_ Self-emp-not-inc','workclass_ Local-gov',\n",
        "         'relationship_ Wife',\n",
        "         'occupation_ Exec-managerial','occupation_ Prof-specialty'],axis=1,inplace=True)"
      ],
      "execution_count": 25,
      "outputs": []
    },
    {
      "cell_type": "code",
      "metadata": {
        "id": "_U4TIumDbWpS"
      },
      "source": [
        "df_test.drop(['maritalstatus_ Married-civ-spouse','maritalstatus_ Married-AF-spouse',\n",
        "         'workclass_ Self-emp-not-inc','workclass_ Local-gov',\n",
        "         'relationship_ Wife',\n",
        "         'occupation_ Exec-managerial','occupation_ Prof-specialty'],axis=1,inplace=True)"
      ],
      "execution_count": 26,
      "outputs": []
    },
    {
      "cell_type": "code",
      "metadata": {
        "id": "xixc5Mzrbv_o"
      },
      "source": [
        "df1 = pd.read_csv('SalaryData_Train.csv')"
      ],
      "execution_count": 27,
      "outputs": []
    },
    {
      "cell_type": "code",
      "metadata": {
        "colab": {
          "base_uri": "https://localhost:8080/"
        },
        "id": "SRxrr5QEbv7o",
        "outputId": "a61bc973-a2d3-4881-b784-8470eba471fe"
      },
      "source": [
        "df1['native'].unique()"
      ],
      "execution_count": 28,
      "outputs": [
        {
          "output_type": "execute_result",
          "data": {
            "text/plain": [
              "array([' United-States', ' Cuba', ' Jamaica', ' India', ' Mexico',\n",
              "       ' Puerto-Rico', ' Honduras', ' England', ' Canada', ' Germany',\n",
              "       ' Iran', ' Philippines', ' Poland', ' Columbia', ' Cambodia',\n",
              "       ' Thailand', ' Ecuador', ' Laos', ' Taiwan', ' Haiti', ' Portugal',\n",
              "       ' Dominican-Republic', ' El-Salvador', ' France', ' Guatemala',\n",
              "       ' Italy', ' China', ' South', ' Japan', ' Yugoslavia', ' Peru',\n",
              "       ' Outlying-US(Guam-USVI-etc)', ' Scotland', ' Trinadad&Tobago',\n",
              "       ' Greece', ' Nicaragua', ' Vietnam', ' Hong', ' Ireland',\n",
              "       ' Hungary'], dtype=object)"
            ]
          },
          "metadata": {
            "tags": []
          },
          "execution_count": 28
        }
      ]
    },
    {
      "cell_type": "code",
      "metadata": {
        "id": "Me0OkclBbv3r"
      },
      "source": [
        "df1['native_bin'] = [1 if x==' United-States' else 0 for x in df1['native']]"
      ],
      "execution_count": 29,
      "outputs": []
    },
    {
      "cell_type": "code",
      "metadata": {
        "colab": {
          "base_uri": "https://localhost:8080/",
          "height": 351
        },
        "id": "dTNJ9HXLbvzY",
        "outputId": "d7df7c5e-4797-495a-8937-a06fab05e8c7"
      },
      "source": [
        "sns.countplot(df1['native_bin'],hue=df1['Salary'])"
      ],
      "execution_count": 30,
      "outputs": [
        {
          "output_type": "stream",
          "text": [
            "/usr/local/lib/python3.7/dist-packages/seaborn/_decorators.py:43: FutureWarning: Pass the following variable as a keyword arg: x. From version 0.12, the only valid positional argument will be `data`, and passing other arguments without an explicit keyword will result in an error or misinterpretation.\n",
            "  FutureWarning\n"
          ],
          "name": "stderr"
        },
        {
          "output_type": "execute_result",
          "data": {
            "text/plain": [
              "<matplotlib.axes._subplots.AxesSubplot at 0x7f88e6a613d0>"
            ]
          },
          "metadata": {
            "tags": []
          },
          "execution_count": 30
        },
        {
          "output_type": "display_data",
          "data": {
            "image/png": "[encoded data removed]",
            "text/plain": [
              "<Figure size 432x288 with 1 Axes>"
            ]
          },
          "metadata": {
            "tags": [],
            "needs_background": "light"
          }
        }
      ]
    },
    {
      "cell_type": "code",
      "metadata": {
        "id": "3oCq8Egwbvv4"
      },
      "source": [
        "df.drop(['native_ China', 'native_ Columbia',\n",
        "       'native_ Cuba', 'native_ Dominican-Republic', 'native_ Ecuador',\n",
        "       'native_ El-Salvador', 'native_ England', 'native_ France',\n",
        "       'native_ Germany', 'native_ Greece', 'native_ Guatemala',\n",
        "       'native_ Haiti', 'native_ Honduras', 'native_ Hong', 'native_ Hungary',\n",
        "       'native_ India', 'native_ Iran', 'native_ Ireland', 'native_ Italy',\n",
        "       'native_ Jamaica', 'native_ Japan', 'native_ Laos', 'native_ Mexico',\n",
        "       'native_ Nicaragua', 'native_ Outlying-US(Guam-USVI-etc)',\n",
        "       'native_ Peru', 'native_ Philippines', 'native_ Poland',\n",
        "       'native_ Portugal', 'native_ Puerto-Rico', 'native_ Scotland',\n",
        "       'native_ South', 'native_ Taiwan', 'native_ Thailand',\n",
        "       'native_ Trinadad&Tobago', 'native_ United-States', 'native_ Vietnam',\n",
        "       'native_ Yugoslavia'],axis=1,inplace=True)"
      ],
      "execution_count": 31,
      "outputs": []
    },
    {
      "cell_type": "code",
      "metadata": {
        "id": "Cbz7mT-SbvsB"
      },
      "source": [
        "df_test.drop(['native_ China', 'native_ Columbia',\n",
        "       'native_ Cuba', 'native_ Dominican-Republic', 'native_ Ecuador',\n",
        "       'native_ El-Salvador', 'native_ England', 'native_ France',\n",
        "       'native_ Germany', 'native_ Greece', 'native_ Guatemala',\n",
        "       'native_ Haiti', 'native_ Honduras', 'native_ Hong', 'native_ Hungary',\n",
        "       'native_ India', 'native_ Iran', 'native_ Ireland', 'native_ Italy',\n",
        "       'native_ Jamaica', 'native_ Japan', 'native_ Laos', 'native_ Mexico',\n",
        "       'native_ Nicaragua', 'native_ Outlying-US(Guam-USVI-etc)',\n",
        "       'native_ Peru', 'native_ Philippines', 'native_ Poland',\n",
        "       'native_ Portugal', 'native_ Puerto-Rico', 'native_ Scotland',\n",
        "       'native_ South', 'native_ Taiwan', 'native_ Thailand',\n",
        "       'native_ Trinadad&Tobago', 'native_ United-States', 'native_ Vietnam',\n",
        "       'native_ Yugoslavia'],axis=1,inplace=True)"
      ],
      "execution_count": 32,
      "outputs": []
    },
    {
      "cell_type": "code",
      "metadata": {
        "colab": {
          "base_uri": "https://localhost:8080/"
        },
        "id": "LX4uhcVIbvoH",
        "outputId": "fe08be79-00bd-4eb4-ce79-928bb3120df2"
      },
      "source": [
        "df.columns"
      ],
      "execution_count": 33,
      "outputs": [
        {
          "output_type": "execute_result",
          "data": {
            "text/plain": [
              "Index(['age', 'capitalgain', 'capitalloss', 'hoursperweek', 'Salary',\n",
              "       'workclass_ Private', 'workclass_ Self-emp-inc', 'workclass_ State-gov',\n",
              "       'workclass_ Without-pay', 'education_ 11th', 'education_ 12th',\n",
              "       'education_ 1st-4th', 'education_ 5th-6th', 'education_ 7th-8th',\n",
              "       'education_ 9th', 'education_ Assoc-acdm', 'education_ Assoc-voc',\n",
              "       'education_ Bachelors', 'education_ Doctorate', 'education_ HS-grad',\n",
              "       'education_ Masters', 'education_ Preschool', 'education_ Prof-school',\n",
              "       'education_ Some-college', 'maritalstatus_ Married-spouse-absent',\n",
              "       'maritalstatus_ Never-married', 'maritalstatus_ Separated',\n",
              "       'maritalstatus_ Widowed', 'occupation_ Armed-Forces',\n",
              "       'occupation_ Craft-repair', 'occupation_ Farming-fishing',\n",
              "       'occupation_ Handlers-cleaners', 'occupation_ Machine-op-inspct',\n",
              "       'occupation_ Other-service', 'occupation_ Priv-house-serv',\n",
              "       'occupation_ Protective-serv', 'occupation_ Sales',\n",
              "       'occupation_ Tech-support', 'occupation_ Transport-moving',\n",
              "       'relationship_ Not-in-family', 'relationship_ Other-relative',\n",
              "       'relationship_ Own-child', 'relationship_ Unmarried',\n",
              "       'race_ Asian-Pac-Islander', 'race_ Black', 'race_ Other', 'race_ White',\n",
              "       'sex_ Male', 'native_ Canada'],\n",
              "      dtype='object')"
            ]
          },
          "metadata": {
            "tags": []
          },
          "execution_count": 33
        }
      ]
    },
    {
      "cell_type": "code",
      "metadata": {
        "colab": {
          "base_uri": "https://localhost:8080/"
        },
        "id": "w3wrB7s5bvjI",
        "outputId": "03a8e972-e854-4eb5-c4db-c3265fc075fd"
      },
      "source": [
        "df_test.columns"
      ],
      "execution_count": 34,
      "outputs": [
        {
          "output_type": "execute_result",
          "data": {
            "text/plain": [
              "Index(['age', 'capitalgain', 'capitalloss', 'hoursperweek', 'Salary',\n",
              "       'workclass_ Private', 'workclass_ Self-emp-inc', 'workclass_ State-gov',\n",
              "       'workclass_ Without-pay', 'education_ 11th', 'education_ 12th',\n",
              "       'education_ 1st-4th', 'education_ 5th-6th', 'education_ 7th-8th',\n",
              "       'education_ 9th', 'education_ Assoc-acdm', 'education_ Assoc-voc',\n",
              "       'education_ Bachelors', 'education_ Doctorate', 'education_ HS-grad',\n",
              "       'education_ Masters', 'education_ Preschool', 'education_ Prof-school',\n",
              "       'education_ Some-college', 'maritalstatus_ Married-spouse-absent',\n",
              "       'maritalstatus_ Never-married', 'maritalstatus_ Separated',\n",
              "       'maritalstatus_ Widowed', 'occupation_ Armed-Forces',\n",
              "       'occupation_ Craft-repair', 'occupation_ Farming-fishing',\n",
              "       'occupation_ Handlers-cleaners', 'occupation_ Machine-op-inspct',\n",
              "       'occupation_ Other-service', 'occupation_ Priv-house-serv',\n",
              "       'occupation_ Protective-serv', 'occupation_ Sales',\n",
              "       'occupation_ Tech-support', 'occupation_ Transport-moving',\n",
              "       'relationship_ Not-in-family', 'relationship_ Other-relative',\n",
              "       'relationship_ Own-child', 'relationship_ Unmarried',\n",
              "       'race_ Asian-Pac-Islander', 'race_ Black', 'race_ Other', 'race_ White',\n",
              "       'sex_ Male', 'native_ Canada'],\n",
              "      dtype='object')"
            ]
          },
          "metadata": {
            "tags": []
          },
          "execution_count": 34
        }
      ]
    },
    {
      "cell_type": "code",
      "metadata": {
        "id": "ByuvqCjxbve9"
      },
      "source": [
        "ros = RandomOverSampler()"
      ],
      "execution_count": 35,
      "outputs": []
    },
    {
      "cell_type": "code",
      "metadata": {
        "id": "QpavUlDObvZx"
      },
      "source": [
        "X  = df.drop('Salary',axis=1)\n",
        "y = df['Salary']"
      ],
      "execution_count": 36,
      "outputs": []
    },
    {
      "cell_type": "code",
      "metadata": {
        "id": "MBqncDdtdr5w"
      },
      "source": [
        "X_test = df_test.drop('Salary',axis=1)\n",
        "y_test = df_test['Salary']"
      ],
      "execution_count": 37,
      "outputs": []
    },
    {
      "cell_type": "code",
      "metadata": {
        "colab": {
          "base_uri": "https://localhost:8080/"
        },
        "id": "m1atOJvjdr0D",
        "outputId": "e12132e4-c206-41e2-82d5-38b7667ea7bc"
      },
      "source": [
        "X_ros,y_ros = ros.fit_resample(X,y)"
      ],
      "execution_count": 38,
      "outputs": [
        {
          "output_type": "stream",
          "text": [
            "/usr/local/lib/python3.7/dist-packages/sklearn/utils/deprecation.py:87: FutureWarning: Function safe_indexing is deprecated; safe_indexing is deprecated in version 0.22 and will be removed in version 0.24.\n",
            "  warnings.warn(msg, category=FutureWarning)\n"
          ],
          "name": "stderr"
        }
      ]
    },
    {
      "cell_type": "code",
      "metadata": {
        "id": "7jaLVmi-drmJ"
      },
      "source": [
        "scaler = StandardScaler()"
      ],
      "execution_count": 40,
      "outputs": []
    },
    {
      "cell_type": "code",
      "metadata": {
        "id": "gRpg2e-ldrXA"
      },
      "source": [
        "X_train = scaler.fit_transform(X_ros)"
      ],
      "execution_count": 44,
      "outputs": []
    },
    {
      "cell_type": "code",
      "metadata": {
        "id": "xHkSl-AZdrS0"
      },
      "source": [
        "X_test_scaled = scaler.transform(X_test)"
      ],
      "execution_count": 45,
      "outputs": []
    },
    {
      "cell_type": "code",
      "metadata": {
        "id": "CEzhoPz7eK_7"
      },
      "source": [
        "gnb = GaussianNB()"
      ],
      "execution_count": 46,
      "outputs": []
    },
    {
      "cell_type": "code",
      "metadata": {
        "colab": {
          "base_uri": "https://localhost:8080/"
        },
        "id": "b6JqdOjmeK7A",
        "outputId": "b92c4341-1f72-473d-c017-e376cdaadf89"
      },
      "source": [
        "gnb.fit(X_train,y_ros)"
      ],
      "execution_count": 47,
      "outputs": [
        {
          "output_type": "execute_result",
          "data": {
            "text/plain": [
              "GaussianNB(priors=None, var_smoothing=1e-09)"
            ]
          },
          "metadata": {
            "tags": []
          },
          "execution_count": 47
        }
      ]
    },
    {
      "cell_type": "code",
      "metadata": {
        "id": "Yzlyoe3SeK3Y"
      },
      "source": [
        "prediction = gnb.predict(X_test_scaled)"
      ],
      "execution_count": 48,
      "outputs": []
    },
    {
      "cell_type": "code",
      "metadata": {
        "colab": {
          "base_uri": "https://localhost:8080/"
        },
        "id": "ASZSq2obeKzg",
        "outputId": "45666b38-7228-425b-893a-355bc212afda"
      },
      "source": [
        "print(confusion_matrix(y_test,prediction))\n",
        "print(classification_report(y_test,prediction))"
      ],
      "execution_count": 49,
      "outputs": [
        {
          "output_type": "stream",
          "text": [
            "[[7546 3814]\n",
            " [ 453 3247]]\n",
            "              precision    recall  f1-score   support\n",
            "\n",
            "           0       0.94      0.66      0.78     11360\n",
            "           1       0.46      0.88      0.60      3700\n",
            "\n",
            "    accuracy                           0.72     15060\n",
            "   macro avg       0.70      0.77      0.69     15060\n",
            "weighted avg       0.82      0.72      0.74     15060\n",
            "\n"
          ],
          "name": "stdout"
        }
      ]
    }
  ]
}